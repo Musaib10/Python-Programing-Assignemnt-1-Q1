{
 "cells": [
  {
   "cell_type": "markdown",
   "metadata": {},
   "source": [
    "# Calculate Area of Circle"
   ]
  },
  {
   "cell_type": "code",
   "execution_count": 7,
   "metadata": {},
   "outputs": [
    {
     "name": "stdout",
     "output_type": "stream",
     "text": [
      "Input Radius: 0.6\n",
      "Area of Circle with radius 0.6 is 1.130973354\n"
     ]
    }
   ],
   "source": [
    "r = float(input(\"Input Radius: \"))\n",
    "pi = 3.14159265\n",
    "area = pi*(r**2)\n",
    "print(\"Area of Circle with radius \" + str(r) + \" is \" + str(area))"
   ]
  },
  {
   "cell_type": "markdown",
   "metadata": {},
   "source": [
    "# Check Number either positive, negative or zero"
   ]
  },
  {
   "cell_type": "code",
   "execution_count": 10,
   "metadata": {},
   "outputs": [
    {
     "name": "stdout",
     "output_type": "stream",
     "text": [
      "Enter Number: 0\n",
      "Zero Entered\n"
     ]
    }
   ],
   "source": [
    "numb = int(input(\"Enter Number: \"))\n",
    "if numb < 0 :\n",
    "    print(\"Negative Number Entered\")\n",
    "elif numb > 0:\n",
    "    print(\"Positive Number Entered\")\n",
    "else:\n",
    "    print(\"Zero Entered\")\n",
    "    "
   ]
  },
  {
   "cell_type": "markdown",
   "metadata": {},
   "source": [
    "# Divisibility Check of two numbers"
   ]
  },
  {
   "cell_type": "code",
   "execution_count": 13,
   "metadata": {},
   "outputs": [
    {
     "name": "stdout",
     "output_type": "stream",
     "text": [
      "Enter numerator: 8\n",
      "Enter Denominator: 16\n",
      "Number 8 is not completely divisble by 16\n"
     ]
    }
   ],
   "source": [
    "num_1 = int(input(\"Enter numerator: \"))\n",
    "num_2 = int(input(\"Enter Denominator: \"))\n",
    "\n",
    "if num_1 % num_2 == 0:\n",
    "    print(\"Number \" + str(num_1) + \" is completely divisble by \" + str(num_2))\n",
    "else:\n",
    "    print(\"Number \" + str(num_1) + \" is not completely divisble by \" + str(num_2))"
   ]
  },
  {
   "cell_type": "markdown",
   "metadata": {},
   "source": [
    "# Days Calculator"
   ]
  },
  {
   "cell_type": "code",
   "execution_count": 1,
   "metadata": {},
   "outputs": [
    {
     "name": "stdout",
     "output_type": "stream",
     "text": [
      "Enter a date in (dd/mm/yy) format: 28/04/1992\n",
      "Enter a date in (dd/mm/yy) format: 28/04/2019\n",
      "There are  9861  in betweeen  28/04/1992  and  28/04/2019\n"
     ]
    }
   ],
   "source": [
    "from datetime import datetime\n",
    "date_format = \"%d/%m/%Y\"\n",
    "first_date = input(\"Enter a date in (dd/mm/yy) format: \")\n",
    "second_date = input(\"Enter a date in (dd/mm/yy) format: \") \n",
    "first = datetime.strptime( first_date , date_format)\n",
    "second = datetime.strptime( second_date , date_format)\n",
    "no_of_days = second - first\n",
    "print(\"There are \", no_of_days.days, \" in betweeen \", first_date, \" and \", second_date)"
   ]
  },
  {
   "cell_type": "markdown",
   "metadata": {},
   "source": [
    "# Calculate Volumne of a sphere"
   ]
  },
  {
   "cell_type": "code",
   "execution_count": 16,
   "metadata": {},
   "outputs": [
    {
     "name": "stdout",
     "output_type": "stream",
     "text": [
      "Enter Radius of Sphere: 1\n",
      "Volume of the Sphere with Radius 1.0 is 4.1887902\n"
     ]
    }
   ],
   "source": [
    "r = float(input(\"Enter Radius of Sphere: \"))\n",
    "pi = 3.14159265\n",
    "v = 4/3 * pi * (r**3)\n",
    "print(\"Volume of the Sphere with Radius \" + str(r) + \" is \" + str(v))"
   ]
  },
  {
   "cell_type": "markdown",
   "metadata": {},
   "source": [
    "# Copy string n times"
   ]
  },
  {
   "cell_type": "code",
   "execution_count": 8,
   "metadata": {},
   "outputs": [
    {
     "name": "stdout",
     "output_type": "stream",
     "text": [
      "Enter String: Hi\n",
      "How many copies of String you need: 4\n",
      "4 Copies of Hi are HiHiHiHi\n"
     ]
    }
   ],
   "source": [
    "string = input(\"Enter String: \")\n",
    "n = int(input(\"How many copies of String you need: \"))\n",
    "print(str(n) + \" Copies of \" + string + \" are \" + string * n)"
   ]
  },
  {
   "cell_type": "markdown",
   "metadata": {},
   "source": [
    "# Check if number is Even or odd"
   ]
  },
  {
   "cell_type": "code",
   "execution_count": 25,
   "metadata": {},
   "outputs": [
    {
     "name": "stdout",
     "output_type": "stream",
     "text": [
      "Enter Number: 22\n",
      "22 is Even\n"
     ]
    }
   ],
   "source": [
    "num = int(input(\"Enter Number: \"))\n",
    "if num % 2 == 0 :\n",
    "    print(str(num) + \" is Even\")\n",
    "else:\n",
    "    print(str(num) + \" is odd\")"
   ]
  },
  {
   "cell_type": "markdown",
   "metadata": {},
   "source": [
    "# Vowel Tester"
   ]
  },
  {
   "cell_type": "code",
   "execution_count": 19,
   "metadata": {},
   "outputs": [
    {
     "name": "stdout",
     "output_type": "stream",
     "text": [
      "Enter a character: A\n",
      "Letter A is Vowel\n"
     ]
    }
   ],
   "source": [
    "l = input((\"Enter a character: \"))\n",
    "if l.upper() == 'A' or l.upper() == 'E' or l.upper() == 'I' or l.upper() == 'O' or l.upper() =='U':\n",
    "    print(\"Letter \" + l + \" is Vowel\")\n",
    "else:\n",
    "    print(\"Letter \" + l + \" is not Vowel\")"
   ]
  },
  {
   "cell_type": "markdown",
   "metadata": {},
   "source": [
    "# Triangle Area"
   ]
  },
  {
   "cell_type": "code",
   "execution_count": 5,
   "metadata": {},
   "outputs": [
    {
     "name": "stdout",
     "output_type": "stream",
     "text": [
      "Enter magnitude of Triangle base: 4\n",
      "Enter magnitude of Triangle height: 4\n",
      "Area of Triangle with Height 4 and Base 4 is 8.0\n"
     ]
    }
   ],
   "source": [
    "b = int(input(\"Enter magnitude of Triangle base: \"))\n",
    "h = int(input(\"Enter magnitude of Triangle height: \"))\n",
    "a = 1/2 * b * h\n",
    "print(\"Area of Triangle with Height \" + str(h) + \" and Base \" +  str(b) + \" is \" + str(a))"
   ]
  },
  {
   "cell_type": "markdown",
   "metadata": {},
   "source": [
    "# Calculate Interest"
   ]
  },
  {
   "cell_type": "code",
   "execution_count": 11,
   "metadata": {},
   "outputs": [
    {
     "name": "stdout",
     "output_type": "stream",
     "text": [
      "Please enter principal amount: 10000\n",
      "Please enter Rate of interest: 0.1\n",
      "Enter number of years for investment: 5\n",
      "After 5 years your principal amount 10000 over an intersest rate of 0.1 % will be 16105.100000000006\n"
     ]
    }
   ],
   "source": [
    "a = int(input(\"Please enter principal amount: \"))\n",
    "r = float(input(\"Please enter Rate of interest: \"))\n",
    "y = int(input(\"Enter number of years for investment: \"))\n",
    "\n",
    "v = a * (( 1 + r) ** y)\n",
    "print(\"After \" + str(y) + \" years your principal amount \" + str(a) + \" over an intersest rate of \" + str(r) + \" % will be \" + str(v))\n"
   ]
  },
  {
   "cell_type": "markdown",
   "metadata": {},
   "source": [
    "# Euclidean distance"
   ]
  },
  {
   "cell_type": "code",
   "execution_count": 12,
   "metadata": {},
   "outputs": [
    {
     "name": "stdout",
     "output_type": "stream",
     "text": [
      "Enter Co-ordinate for x1: 2\n",
      "Enter Co-ordinate for x2: 4\n",
      "Enter Co-ordinate for y1: 4\n",
      "Enter Co-ordinate for y2: 4\n",
      "Distance between points (2,4) and (4,4) is 2.0\n"
     ]
    }
   ],
   "source": [
    "x1 = int(input(\"Enter Co-ordinate for x1: \"))\n",
    "x2 = int(input(\"Enter Co-ordinate for x2: \"))\n",
    "y1 = int(input(\"Enter Co-ordinate for y1: \"))\n",
    "y2 = int(input(\"Enter Co-ordinate for y2: \"))\n",
    "\n",
    "d = ((x2 - x1)**2 + (y2 - y1)**2)**0.5\n",
    "\n",
    "print(\"Distance between points (\" + str(x1) + \",\" + str(x2) + \") and (\" + str(y1) + \",\" + str(y2) + \") is \" + str(d))"
   ]
  },
  {
   "cell_type": "markdown",
   "metadata": {},
   "source": [
    "# Feet to Centimeter Converter"
   ]
  },
  {
   "cell_type": "code",
   "execution_count": 14,
   "metadata": {},
   "outputs": [
    {
     "name": "stdout",
     "output_type": "stream",
     "text": [
      "Enter Height in Feet: 5\n",
      "There are 152.4 Cm in 5ft\n"
     ]
    }
   ],
   "source": [
    "f = int(input(\"Enter Height in Feet: \"))\n",
    "c = f * 30.48\n",
    "print(\"There are \" + str(c) + \" Cm in \" + str(f) + \"ft\")"
   ]
  },
  {
   "cell_type": "markdown",
   "metadata": {},
   "source": [
    "# BMI Calculator"
   ]
  },
  {
   "cell_type": "code",
   "execution_count": 15,
   "metadata": {},
   "outputs": [
    {
     "name": "stdout",
     "output_type": "stream",
     "text": [
      "Enter Height in Cm: 180\n",
      "Enter Weight in Kg: 75\n",
      "Your BMI is 23.148148148148145\n"
     ]
    }
   ],
   "source": [
    "h = int(input(\"Enter Height in Cm: \"))\n",
    "w = int(input(\"Enter Weight in Kg: \"))\n",
    "\n",
    "bmi = w / (h / 100 )**2\n",
    "\n",
    "print(\"Your BMI is \" + str(bmi))"
   ]
  },
  {
   "cell_type": "markdown",
   "metadata": {},
   "source": [
    "# Sum of Positive Integers"
   ]
  },
  {
   "cell_type": "code",
   "execution_count": 17,
   "metadata": {},
   "outputs": [
    {
     "name": "stdout",
     "output_type": "stream",
     "text": [
      "Enter value of n: 10\n",
      "Sum of n Positive integers till 10 is 55.0\n"
     ]
    }
   ],
   "source": [
    "n = int(input(\"Enter value of n: \"))\n",
    "sum = (n * (n+1)) / 2\n",
    "\n",
    "print(\"Sum of n Positive integers till \" + str(n) + \" is \" + str(sum))"
   ]
  },
  {
   "cell_type": "markdown",
   "metadata": {},
   "source": [
    "# Diigits Sum of Number"
   ]
  },
  {
   "cell_type": "code",
   "execution_count": 11,
   "metadata": {},
   "outputs": [
    {
     "name": "stdout",
     "output_type": "stream",
     "text": [
      "Enter a number: 1234\n",
      "10\n"
     ]
    }
   ],
   "source": [
    "num = int(input(\"Enter a number: \"))\n",
    "a = str(num)\n",
    "b = 0\n",
    "for i in range (0,len(a)):\n",
    "    x = a[i]\n",
    "    b = b + int(x)\n",
    "print(b)"
   ]
  },
  {
   "cell_type": "markdown",
   "metadata": {},
   "source": [
    "# Decimal to Binary Converter"
   ]
  },
  {
   "cell_type": "code",
   "execution_count": 2,
   "metadata": {},
   "outputs": [
    {
     "name": "stdout",
     "output_type": "stream",
     "text": [
      "Enter a decimal number: 28\n",
      "Binary representation of 28 is 11100\n"
     ]
    }
   ],
   "source": [
    "dec = int(input(\"Enter a decimal number: \"))\n",
    "a = bin(dec)[2:]\n",
    "print(\"Binary representation of\", dec, \"is\", a)\n",
    "        "
   ]
  },
  {
   "cell_type": "markdown",
   "metadata": {},
   "source": [
    "# Binary to Decimal Converter"
   ]
  },
  {
   "cell_type": "code",
   "execution_count": 3,
   "metadata": {},
   "outputs": [
    {
     "name": "stdout",
     "output_type": "stream",
     "text": [
      "Enter a binary number: 1101\n",
      "Decimal representation of 1101 is 13\n"
     ]
    }
   ],
   "source": [
    "num = input(\"Enter a binary number: \")\n",
    "a = int(num, 2)\n",
    "print(\"Decimal representation of\", num, \"is\", a)"
   ]
  },
  {
   "cell_type": "markdown",
   "metadata": {},
   "source": [
    "# Vowel and Constants Counter\n"
   ]
  },
  {
   "cell_type": "code",
   "execution_count": 1,
   "metadata": {},
   "outputs": [
    {
     "name": "stdout",
     "output_type": "stream",
     "text": [
      "Enter text: QuickBrownFoxJumpsovertheDog\n",
      "vowel:  9\n",
      "constant1 19\n"
     ]
    }
   ],
   "source": [
    "sent = str(input(\"Enter text: \"))\n",
    "sent1 = sent.upper()\n",
    "count = 0\n",
    "constant1 = 0\n",
    "for i in range (0,len(sent1)):\n",
    "    x= sent1[i] \n",
    "    if x==\"A\":\n",
    "        count = count+1\n",
    "    elif x ==\"E\":\n",
    "        count = count+1\n",
    "    elif x ==\"I\":\n",
    "        count = count+1\n",
    "    elif x ==\"O\":\n",
    "        count = count+1\n",
    "    elif x ==\"U\":\n",
    "        count = count+1\n",
    "    else:\n",
    "        constant1 = constant1 + 1\n",
    "print(\"vowel: \", count)\n",
    "print(\"constant1\", constant1)\n",
    "        \n"
   ]
  },
  {
   "cell_type": "markdown",
   "metadata": {},
   "source": [
    "# Palindrome Tester"
   ]
  },
  {
   "cell_type": "code",
   "execution_count": 5,
   "metadata": {},
   "outputs": [
    {
     "name": "stdout",
     "output_type": "stream",
     "text": [
      "Enter text: AHA\n",
      "Text AHA is a Palindrome\n"
     ]
    }
   ],
   "source": [
    "text = input(\"Enter text: \")\n",
    "reverse_text = text[::-1]   \n",
    "if text == reverse_text:\n",
    "    print(\"Text\",text,\"is a Palindrome\")\n",
    "else:\n",
    "    print(\"Text\",text,\"is not a Palindrome\")"
   ]
  },
  {
   "cell_type": "markdown",
   "metadata": {},
   "source": [
    "# Count Alphabets, Numbers and Special Characters"
   ]
  },
  {
   "cell_type": "code",
   "execution_count": 4,
   "metadata": {},
   "outputs": [
    {
     "name": "stdout",
     "output_type": "stream",
     "text": [
      "Enter text: Python 3.2\n",
      "Numbers = 2 \n",
      "Alphabets = 6 \n",
      "Special Characters = 1 \n",
      "Spaces = 1\n"
     ]
    }
   ],
   "source": [
    "text = input(\"Enter text: \")\n",
    "num = 0\n",
    "alph = 0\n",
    "sp_chr = 0\n",
    "spaces = 0\n",
    "for y in text:\n",
    "    if (ord(y) >= 48) and (ord(y) <= 57):\n",
    "        num += 1\n",
    "    elif ((ord(y) >= 65) and (ord(y) <= 90)) or ((ord(y) >= 97) and (ord(y) <= 122)):\n",
    "        alph += 1\n",
    "    elif (ord(y) == 32):\n",
    "        spaces += 1\n",
    "    else:\n",
    "        sp_chr += 1\n",
    "print(\"Numbers =\",num, \"\\nAlphabets =\",alph, \"\\nSpecial Characters =\",sp_chr, \"\\nSpaces =\",spaces)"
   ]
  },
  {
   "cell_type": "markdown",
   "metadata": {},
   "source": [
    "# Pattern"
   ]
  },
  {
   "cell_type": "code",
   "execution_count": 6,
   "metadata": {},
   "outputs": [
    {
     "name": "stdout",
     "output_type": "stream",
     "text": [
      "* \n",
      "\n",
      "* * \n",
      "\n",
      "* * * \n",
      "\n",
      "* * * * \n",
      "\n",
      "* * * * * \n",
      "\n",
      "* * * * \n",
      "\n",
      "* * * \n",
      "\n",
      "* * \n",
      "\n",
      "* \n",
      "\n"
     ]
    }
   ],
   "source": [
    "num = 5\n",
    "for x in range(1,num+1):\n",
    "    for y in range(1,x+1):\n",
    "        print('*', end=' ')\n",
    "    print(\"\\n\")\n",
    "for x in range(1,num):\n",
    "    for y in range(x,num):\n",
    "        print(\"*\", end=' ')\n",
    "    print(\"\\n\")"
   ]
  },
  {
   "cell_type": "markdown",
   "metadata": {},
   "source": [
    "# Pattern"
   ]
  },
  {
   "cell_type": "code",
   "execution_count": 7,
   "metadata": {},
   "outputs": [
    {
     "name": "stdout",
     "output_type": "stream",
     "text": [
      "1 \n",
      "\n",
      "1 2 \n",
      "\n",
      "1 2 3 \n",
      "\n",
      "1 2 3 4 \n",
      "\n",
      "1 2 3 4 5 \n",
      "\n",
      "1 2 3 4 \n",
      "\n",
      "1 2 3 \n",
      "\n",
      "1 2 \n",
      "\n",
      "1 \n",
      "\n"
     ]
    }
   ],
   "source": [
    "num = 5\n",
    "for x in range(1,num+1):\n",
    "    for y in range(1,x+1):\n",
    "        print(y,end=\" \")\n",
    "    print(\"\\n\")\n",
    "for x in range(num,1,-1):\n",
    "    for y in range(1,x):\n",
    "        print(y,end=' ')\n",
    "    print('\\n')"
   ]
  },
  {
   "cell_type": "markdown",
   "metadata": {},
   "source": [
    "# Pattern"
   ]
  },
  {
   "cell_type": "code",
   "execution_count": 8,
   "metadata": {},
   "outputs": [
    {
     "name": "stdout",
     "output_type": "stream",
     "text": [
      "1 \n",
      "\n",
      "2 2 \n",
      "\n",
      "3 3 3 \n",
      "\n",
      "4 4 4 4 \n",
      "\n",
      "5 5 5 5 5 \n",
      "\n",
      "6 6 6 6 6 6 \n",
      "\n",
      "7 7 7 7 7 7 7 \n",
      "\n",
      "8 8 8 8 8 8 8 8 \n",
      "\n",
      "9 9 9 9 9 9 9 9 9 \n",
      "\n"
     ]
    }
   ],
   "source": [
    "num = 9\n",
    "for x in range(1,num+1):\n",
    "    for y in range(1,x+1):\n",
    "        print(x,end=\" \")\n",
    "    print(\"\\n\")"
   ]
  },
  {
   "cell_type": "code",
   "execution_count": null,
   "metadata": {},
   "outputs": [],
   "source": []
  }
 ],
 "metadata": {
  "kernelspec": {
   "display_name": "Python 3",
   "language": "python",
   "name": "python3"
  },
  "language_info": {
   "codemirror_mode": {
    "name": "ipython",
    "version": 3
   },
   "file_extension": ".py",
   "mimetype": "text/x-python",
   "name": "python",
   "nbconvert_exporter": "python",
   "pygments_lexer": "ipython3",
   "version": "3.7.1"
  }
 },
 "nbformat": 4,
 "nbformat_minor": 2
}
